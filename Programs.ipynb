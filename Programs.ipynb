{
 "cells": [
  {
   "cell_type": "code",
   "execution_count": 3,
   "metadata": {},
   "outputs": [
    {
     "name": "stdout",
     "output_type": "stream",
     "text": [
      "0\n",
      "1\n",
      "2\n",
      "3\n",
      "4\n",
      "5\n"
     ]
    }
   ],
   "source": [
    "# 1. Print the numbers from from start till specified number eg. 0 till 5\n",
    "\n",
    "a=5\n",
    "for i in range(0,a+1):\n",
    "    print(i)\n"
   ]
  },
  {
   "cell_type": "code",
   "execution_count": 4,
   "metadata": {},
   "outputs": [
    {
     "name": "stdout",
     "output_type": "stream",
     "text": [
      "3\n",
      "4\n",
      "5\n",
      "6\n"
     ]
    }
   ],
   "source": [
    "#2. Print the number  with specific start and end 3,4,5,6\n",
    "\n",
    "a=3\n",
    "b=6\n",
    "\n",
    "for i in range(a,b+1):\n",
    "    print(i)"
   ]
  },
  {
   "cell_type": "code",
   "execution_count": 5,
   "metadata": {},
   "outputs": [
    {
     "name": "stdout",
     "output_type": "stream",
     "text": [
      "0\n",
      "2\n",
      "4\n",
      "6\n",
      "8\n"
     ]
    }
   ],
   "source": [
    "#3. Print the number with start, end and interval \n",
    "\n",
    "for i in range(0,10,2):\n",
    "    print(i)"
   ]
  },
  {
   "cell_type": "code",
   "execution_count": 11,
   "metadata": {},
   "outputs": [
    {
     "name": "stdout",
     "output_type": "stream",
     "text": [
      "t\n",
      "e\n",
      "q\n",
      "s\n",
      "t\n",
      "o\n",
      "r\n",
      "i\n",
      "e\n",
      "s\n"
     ]
    }
   ],
   "source": [
    "#4. print all the letters in the element l = \"teqstories\"\n",
    "\n",
    "for i in \"teqstories\":\n",
    "    print(i)"
   ]
  },
  {
   "cell_type": "code",
   "execution_count": 12,
   "metadata": {},
   "outputs": [
    {
     "name": "stdout",
     "output_type": "stream",
     "text": [
      "teq\n",
      "stories\n",
      "teqstories\n"
     ]
    }
   ],
   "source": [
    "#5. print all the elements in the tuple one by one  l = (teq,stories,teqstories)\n",
    "\n",
    "tup=('teq','stories','teqstories')\n",
    "for x in tup:\n",
    "    print(x)"
   ]
  },
  {
   "cell_type": "code",
   "execution_count": 13,
   "metadata": {},
   "outputs": [
    {
     "name": "stdout",
     "output_type": "stream",
     "text": [
      "teq\n",
      "stories\n",
      "teqstories\n"
     ]
    }
   ],
   "source": [
    "#6. print all the elements in the list one by one  l = [teq,stories,teqstories]\n",
    "\n",
    "l=['teq','stories','teqstories']\n",
    "for x in l:\n",
    "    print(x)\n"
   ]
  },
  {
   "cell_type": "code",
   "execution_count": 21,
   "metadata": {},
   "outputs": [
    {
     "name": "stdout",
     "output_type": "stream",
     "text": [
      "teq\n",
      "stories\n",
      "teqstories\n",
      "26\n",
      "23\n",
      "28\n"
     ]
    }
   ],
   "source": [
    "#7. print all the elements (values and keys ) in the dict one by one  l =  {\"teq\":26,\"stories\":23,\"teqstories\":28}\n",
    "\n",
    "dic={\"teq\":26,\"stories\":23,\"teqstories\":28}\n",
    "for x in dic.keys():\n",
    "    print(x)\n",
    "    \n",
    "for x in dic.values():\n",
    "    print(x)"
   ]
  },
  {
   "cell_type": "code",
   "execution_count": 30,
   "metadata": {},
   "outputs": [
    {
     "name": "stdout",
     "output_type": "stream",
     "text": [
      "teq\n",
      "stories\n",
      "teqstories\n"
     ]
    }
   ],
   "source": [
    "#8. iterate list based on index, l = [\"teq\", \"stories\", \"teqstories\"] \n",
    "l=[\"teq\", \"stories\", \"teqstories\"]\n",
    "for i in range(len(l)):\n",
    "    print(l[i])\n"
   ]
  },
  {
   "cell_type": "code",
   "execution_count": 36,
   "metadata": {},
   "outputs": [
    {
     "name": "stdout",
     "output_type": "stream",
     "text": [
      "Cummulative Sum : 6\n",
      "Cummulative Sum : 11\n",
      "Cummulative Sum : 14\n",
      "Cummulative Sum : 22\n",
      "Cummulative Sum : 26\n",
      "Cummulative Sum : 28\n",
      "Cummulative Sum : 33\n",
      "Cummulative Sum : 37\n",
      "Cummulative Sum : 48\n",
      "Total Sum : 48\n"
     ]
    }
   ],
   "source": [
    "#9. Print the total sum  and cummulative sum of all the numbers in the list n = [6, 5, 3, 8, 4, 2, 5, 4, 11]\n",
    "\n",
    "n = [6, 5, 3, 8, 4, 2, 5, 4, 11]\n",
    "sum=0\n",
    "for x in n:\n",
    "    sum+=x\n",
    "    print(\"Cummulative Sum :\",sum)\n",
    "print(\"Total Sum :\",sum)\n"
   ]
  },
  {
   "cell_type": "code",
   "execution_count": 42,
   "metadata": {},
   "outputs": [
    {
     "name": "stdout",
     "output_type": "stream",
     "text": [
      "Enter the value:4\n",
      "4 is not a prime number\n"
     ]
    }
   ],
   "source": [
    "#10.check if the given value is prime number or not\n",
    "\n",
    "a=int(input(\"Enter the value:\"))\n",
    "for i in range(2,a):\n",
    "       if (a % i) == 0:\n",
    "           print(a,\"is not a prime number\")\n",
    "           break\n",
    "       else:\n",
    "           print(a,\"is a prime number\")\n",
    "       "
   ]
  },
  {
   "cell_type": "code",
   "execution_count": 11,
   "metadata": {},
   "outputs": [
    {
     "name": "stdout",
     "output_type": "stream",
     "text": [
      "Factorial of 6 is : 720\n"
     ]
    }
   ],
   "source": [
    "#11 Find factorial of the number 6\n",
    "\n",
    "a=6\n",
    "fact=1\n",
    "for i in range(1,a+1):\n",
    "    fact=fact*i\n",
    "print(\"Factorial of 6 is :\",fact)\n",
    "    "
   ]
  },
  {
   "cell_type": "code",
   "execution_count": 12,
   "metadata": {},
   "outputs": [
    {
     "name": "stdout",
     "output_type": "stream",
     "text": [
      "b is greater: 201\n"
     ]
    }
   ],
   "source": [
    "#12 find which is the greatest number   a = 15; b = 201; c = 60\n",
    "\n",
    "a=15\n",
    "b=201\n",
    "c=60\n",
    "\n",
    "if (a>b and a>c):\n",
    "    print(\"a is greater:\",a)\n",
    "elif (b>a and b>c ):\n",
    "    print(\"b is greater:\",b)\n",
    "else:\n",
    "    print(\"c is greater\",c)"
   ]
  },
  {
   "cell_type": "code",
   "execution_count": 18,
   "metadata": {},
   "outputs": [
    {
     "name": "stdout",
     "output_type": "stream",
     "text": [
      "Enter the value for customer segmentation :30000\n",
      "Customer is Diamond Customer\n"
     ]
    }
   ],
   "source": [
    "'''13.Customer segmentation, if cust_credit greater than or equal to 25000 , \n",
    "mark as diamond customer, between 15000 and 25000, gold else bronze'''\n",
    "\n",
    "customer_seg =int(input(\"Enter the value for customer segmentation :\"))\n",
    "\n",
    "if(customer_seg >= 25000):\n",
    "    print(\"Customer is Diamond Customer\")\n",
    "elif(customer_seg >= 15000 and customer_seg <= 25000):\n",
    "    print(\"Custmer is Gold Customer\")\n",
    "else:\n",
    "    print(\"Customer is Bronze Customer\")"
   ]
  },
  {
   "cell_type": "code",
   "execution_count": 26,
   "metadata": {},
   "outputs": [
    {
     "name": "stdout",
     "output_type": "stream",
     "text": [
      "Even numbers :\n",
      "0\n",
      "2\n",
      "4\n",
      "6\n",
      "8\n",
      "10\n",
      "Odd numbers :\n",
      "1\n",
      "3\n",
      "5\n",
      "7\n",
      "9\n"
     ]
    }
   ],
   "source": [
    "#14 check if a given range if number is even or odd\n",
    "\n",
    "print(\"Even numbers :\")\n",
    "for i in range (0,11):\n",
    "    if(i%2 == 0):\n",
    "        print(i)\n",
    "        \n",
    "\n",
    "print(\"Odd numbers :\")\n",
    "for i in range (0,11):\n",
    "    if(i%2 != 0):\n",
    "        print(i)\n",
    "        \n",
    "    \n",
    "    "
   ]
  },
  {
   "cell_type": "code",
   "execution_count": 29,
   "metadata": {},
   "outputs": [
    {
     "name": "stdout",
     "output_type": "stream",
     "text": [
      "7\n",
      "14\n",
      "21\n",
      "28\n",
      "Sum of all numbers divisible by 7 : 70\n"
     ]
    }
   ],
   "source": [
    "#15. In a given range of interval, find all the numbers and give its total sum which is divisible by 7\n",
    "\n",
    "sum=0\n",
    "for i in range(1,30):\n",
    "    if(i%7 == 0):\n",
    "        print(i)\n",
    "        sum+=i\n",
    "\n",
    "print(\"Sum of all numbers divisible by 7 :\",sum)"
   ]
  },
  {
   "cell_type": "code",
   "execution_count": 30,
   "metadata": {},
   "outputs": [
    {
     "name": "stdout",
     "output_type": "stream",
     "text": [
      "560\n",
      "567\n",
      "574\n",
      "581\n",
      "588\n",
      "595\n",
      "602\n",
      "609\n",
      "616\n",
      "623\n",
      "630\n",
      "637\n",
      "644\n",
      "651\n",
      "658\n",
      "665\n",
      "672\n",
      "679\n",
      "686\n",
      "693\n",
      "700\n",
      "707\n",
      "714\n",
      "721\n",
      "728\n",
      "735\n",
      "742\n",
      "749\n",
      "756\n",
      "763\n",
      "770\n",
      "777\n",
      "784\n",
      "791\n",
      "798\n",
      "805\n",
      "812\n",
      "819\n",
      "826\n",
      "833\n",
      "840\n",
      "847\n",
      "854\n",
      "861\n",
      "868\n",
      "875\n",
      "882\n",
      "889\n",
      "896\n",
      "903\n",
      "910\n",
      "917\n",
      "924\n",
      "931\n",
      "938\n",
      "945\n",
      "952\n",
      "959\n",
      "966\n",
      "973\n",
      "980\n",
      "987\n",
      "994\n",
      "1001\n",
      "1008\n",
      "1015\n",
      "1022\n",
      "1029\n",
      "1036\n",
      "1043\n",
      "1050\n",
      "1057\n",
      "1064\n",
      "1071\n",
      "1078\n",
      "1085\n",
      "1092\n",
      "1099\n",
      "1106\n",
      "Count of all numbers divisible by 7 : 79\n"
     ]
    }
   ],
   "source": [
    "#16.count the number of numbers between 555 and 1111 which are divisible by 7 \n",
    "\n",
    "count=0\n",
    "for i in range(555,1112):\n",
    "    if(i%7 == 0):\n",
    "        print(i)\n",
    "        count+=1\n",
    "print(\"Count of all numbers divisible by 7 :\",count)"
   ]
  },
  {
   "cell_type": "code",
   "execution_count": 41,
   "metadata": {},
   "outputs": [
    {
     "name": "stdout",
     "output_type": "stream",
     "text": [
      "Square of even number 111556\n",
      "Square of even number 112896\n",
      "Square of even number 114244\n",
      "Square of even number 115600\n",
      "Square of even number 116964\n",
      "Square of even number 118336\n",
      "Square of even number 119716\n",
      "Square of even number 121104\n",
      "Square of even number 122500\n",
      "Square of even number 123904\n",
      "Square of even number 125316\n",
      "Square of even number 126736\n",
      "Square of even number 128164\n",
      "Square of even number 129600\n",
      "Square of even number 131044\n",
      "Square of even number 132496\n",
      "Square of even number 133956\n",
      "Square of even number 135424\n",
      "Square of even number 136900\n",
      "Square of even number 138384\n",
      "Square of even number 139876\n",
      "Square of even number 141376\n",
      "Square of even number 142884\n",
      "Square of even number 144400\n",
      "Square of even number 145924\n",
      "Square of even number 147456\n",
      "Square of even number 148996\n",
      "Square of even number 150544\n",
      "Square of even number 152100\n",
      "Square of even number 153664\n",
      "Square of even number 155236\n",
      "Square of even number 156816\n",
      "Square of even number 158404\n",
      "Square of even number 160000\n",
      "Square of even number 161604\n",
      "Square of even number 163216\n",
      "Square of even number 164836\n",
      "Square of even number 166464\n",
      "Square of even number 168100\n",
      "Square of even number 169744\n",
      "Square of even number 171396\n",
      "Square of even number 173056\n",
      "Square of even number 174724\n",
      "Square of even number 176400\n",
      "Square of even number 178084\n",
      "Square of even number 179776\n",
      "Square of even number 181476\n",
      "Square of even number 183184\n",
      "Square of even number 184900\n",
      "Square of even number 186624\n",
      "Square of even number 188356\n",
      "Square of even number 190096\n",
      "Square of even number 191844\n",
      "Square of even number 193600\n",
      "Square of even number 195364\n",
      "Square of even number 197136\n",
      "Square of even number 198916\n",
      "Square of even number 200704\n",
      "Square of even number 202500\n",
      "Square of even number 204304\n",
      "Square of even number 206116\n",
      "Square of even number 207936\n",
      "Square of even number 209764\n",
      "Square of even number 211600\n",
      "Square of even number 213444\n",
      "Square of even number 215296\n",
      "Square of even number 217156\n",
      "Square of even number 219024\n",
      "Square of even number 220900\n",
      "Square of even number 222784\n",
      "Square of even number 224676\n",
      "Square of even number 226576\n",
      "Square of even number 228484\n",
      "Square of even number 230400\n",
      "Square of even number 232324\n",
      "Square of even number 234256\n",
      "Square of even number 236196\n",
      "Square of even number 238144\n",
      "Square of even number 240100\n",
      "Square of even number 242064\n",
      "Square of even number 244036\n",
      "Square of even number 246016\n",
      "Square of even number 248004\n",
      "Square of even number 250000\n",
      "Square of even number 252004\n",
      "Square of even number 254016\n",
      "Square of even number 256036\n",
      "Square of even number 258064\n",
      "Square of even number 260100\n",
      "Square of even number 262144\n",
      "Square of even number 264196\n",
      "Square of even number 266256\n",
      "Square of even number 268324\n",
      "Square of even number 270400\n",
      "Square of even number 272484\n",
      "Square of even number 274576\n",
      "Square of even number 276676\n",
      "Square of even number 278784\n",
      "Square of even number 280900\n",
      "Square of even number 283024\n",
      "Square of even number 285156\n",
      "Square of even number 287296\n",
      "Square of even number 289444\n",
      "Square of even number 291600\n",
      "Square of even number 293764\n",
      "Square of even number 295936\n",
      "Square of even number 298116\n",
      "Square of even number 300304\n",
      "Square of even number 302500\n",
      "Square of even number 304704\n",
      "Square of even number 306916\n",
      "Square of even number 309136\n",
      "Square of even number 311364\n",
      "Square of even number 313600\n",
      "Square of even number 315844\n",
      "Square of even number 318096\n",
      "Square of even number 320356\n",
      "Square of even number 322624\n",
      "Square of even number 324900\n",
      "Square of even number 327184\n",
      "Square of even number 329476\n",
      "Square of even number 331776\n",
      "Square of even number 334084\n",
      "Square of even number 336400\n",
      "Square of even number 338724\n",
      "Square of even number 341056\n",
      "Square of even number 343396\n",
      "Square of even number 345744\n",
      "Square of even number 348100\n",
      "Square of even number 350464\n",
      "Square of even number 352836\n",
      "Square of even number 355216\n",
      "Square of even number 357604\n",
      "Square of even number 360000\n",
      "Square of even number 362404\n",
      "Square of even number 364816\n",
      "Square of even number 367236\n",
      "Square of even number 369664\n",
      "Square of even number 372100\n",
      "Square of even number 374544\n",
      "Square of even number 376996\n",
      "Square of even number 379456\n",
      "Square of even number 381924\n",
      "Square of even number 384400\n",
      "Square of even number 386884\n",
      "Square of even number 389376\n",
      "Square of even number 391876\n",
      "Square of even number 394384\n",
      "Square of even number 396900\n",
      "Square of even number 399424\n",
      "Square of even number 401956\n",
      "Square of even number 404496\n",
      "Square of even number 407044\n",
      "Square of even number 409600\n",
      "Square of even number 412164\n",
      "Square of even number 414736\n",
      "Square of even number 417316\n",
      "Square of even number 419904\n",
      "Square of even number 422500\n",
      "Square of even number 425104\n",
      "Square of even number 427716\n",
      "Square of even number 430336\n",
      "Square of even number 432964\n",
      "Square of even number 435600\n",
      "Square of even number 438244\n",
      "Square of even number 440896\n",
      "Square of even number 443556\n",
      "Square of odd number 112225\n",
      "Square of odd number 113569\n",
      "Square of odd number 114921\n",
      "Square of odd number 116281\n",
      "Square of odd number 117649\n",
      "Square of odd number 119025\n",
      "Square of odd number 120409\n",
      "Square of odd number 121801\n",
      "Square of odd number 123201\n",
      "Square of odd number 124609\n",
      "Square of odd number 126025\n",
      "Square of odd number 127449\n",
      "Square of odd number 128881\n",
      "Square of odd number 130321\n",
      "Square of odd number 131769\n",
      "Square of odd number 133225\n",
      "Square of odd number 134689\n",
      "Square of odd number 136161\n",
      "Square of odd number 137641\n",
      "Square of odd number 139129\n",
      "Square of odd number 140625\n",
      "Square of odd number 142129\n",
      "Square of odd number 143641\n",
      "Square of odd number 145161\n",
      "Square of odd number 146689\n",
      "Square of odd number 148225\n",
      "Square of odd number 149769\n",
      "Square of odd number 151321\n",
      "Square of odd number 152881\n",
      "Square of odd number 154449\n",
      "Square of odd number 156025\n",
      "Square of odd number 157609\n",
      "Square of odd number 159201\n",
      "Square of odd number 160801\n",
      "Square of odd number 162409\n",
      "Square of odd number 164025\n",
      "Square of odd number 165649\n",
      "Square of odd number 167281\n",
      "Square of odd number 168921\n",
      "Square of odd number 170569\n",
      "Square of odd number 172225\n",
      "Square of odd number 173889\n",
      "Square of odd number 175561\n",
      "Square of odd number 177241\n",
      "Square of odd number 178929\n",
      "Square of odd number 180625\n",
      "Square of odd number 182329\n",
      "Square of odd number 184041\n",
      "Square of odd number 185761\n",
      "Square of odd number 187489\n",
      "Square of odd number 189225\n",
      "Square of odd number 190969\n",
      "Square of odd number 192721\n",
      "Square of odd number 194481\n",
      "Square of odd number 196249\n",
      "Square of odd number 198025\n",
      "Square of odd number 199809\n",
      "Square of odd number 201601\n",
      "Square of odd number 203401\n",
      "Square of odd number 205209\n",
      "Square of odd number 207025\n",
      "Square of odd number 208849\n",
      "Square of odd number 210681\n",
      "Square of odd number 212521\n",
      "Square of odd number 214369\n",
      "Square of odd number 216225\n",
      "Square of odd number 218089\n",
      "Square of odd number 219961\n",
      "Square of odd number 221841\n",
      "Square of odd number 223729\n",
      "Square of odd number 225625\n",
      "Square of odd number 227529\n",
      "Square of odd number 229441\n",
      "Square of odd number 231361\n",
      "Square of odd number 233289\n",
      "Square of odd number 235225\n",
      "Square of odd number 237169\n",
      "Square of odd number 239121\n",
      "Square of odd number 241081\n",
      "Square of odd number 243049\n",
      "Square of odd number 245025\n",
      "Square of odd number 247009\n",
      "Square of odd number 249001\n",
      "Square of odd number 251001\n",
      "Square of odd number 253009\n",
      "Square of odd number 255025\n",
      "Square of odd number 257049\n",
      "Square of odd number 259081\n",
      "Square of odd number 261121\n",
      "Square of odd number 263169\n",
      "Square of odd number 265225\n",
      "Square of odd number 267289\n",
      "Square of odd number 269361\n",
      "Square of odd number 271441\n",
      "Square of odd number 273529\n",
      "Square of odd number 275625\n",
      "Square of odd number 277729\n",
      "Square of odd number 279841\n",
      "Square of odd number 281961\n",
      "Square of odd number 284089\n",
      "Square of odd number 286225\n",
      "Square of odd number 288369\n",
      "Square of odd number 290521\n",
      "Square of odd number 292681\n",
      "Square of odd number 294849\n",
      "Square of odd number 297025\n",
      "Square of odd number 299209\n",
      "Square of odd number 301401\n",
      "Square of odd number 303601\n",
      "Square of odd number 305809\n",
      "Square of odd number 308025\n",
      "Square of odd number 310249\n",
      "Square of odd number 312481\n",
      "Square of odd number 314721\n",
      "Square of odd number 316969\n",
      "Square of odd number 319225\n",
      "Square of odd number 321489\n",
      "Square of odd number 323761\n",
      "Square of odd number 326041\n",
      "Square of odd number 328329\n",
      "Square of odd number 330625\n",
      "Square of odd number 332929\n",
      "Square of odd number 335241\n",
      "Square of odd number 337561\n",
      "Square of odd number 339889\n",
      "Square of odd number 342225\n",
      "Square of odd number 344569\n",
      "Square of odd number 346921\n",
      "Square of odd number 349281\n",
      "Square of odd number 351649\n",
      "Square of odd number 354025\n",
      "Square of odd number 356409\n",
      "Square of odd number 358801\n",
      "Square of odd number 361201\n",
      "Square of odd number 363609\n",
      "Square of odd number 366025\n",
      "Square of odd number 368449\n",
      "Square of odd number 370881\n",
      "Square of odd number 373321\n",
      "Square of odd number 375769\n",
      "Square of odd number 378225\n",
      "Square of odd number 380689\n",
      "Square of odd number 383161\n",
      "Square of odd number 385641\n",
      "Square of odd number 388129\n",
      "Square of odd number 390625\n",
      "Square of odd number 393129\n",
      "Square of odd number 395641\n",
      "Square of odd number 398161\n",
      "Square of odd number 400689\n",
      "Square of odd number 403225\n",
      "Square of odd number 405769\n",
      "Square of odd number 408321\n",
      "Square of odd number 410881\n",
      "Square of odd number 413449\n",
      "Square of odd number 416025\n",
      "Square of odd number 418609\n",
      "Square of odd number 421201\n",
      "Square of odd number 423801\n",
      "Square of odd number 426409\n",
      "Square of odd number 429025\n",
      "Square of odd number 431649\n",
      "Square of odd number 434281\n",
      "Square of odd number 436921\n",
      "Square of odd number 439569\n",
      "Square of odd number 442225\n",
      "Square of odd number 444889\n",
      "[18629852]\n",
      "[43469599]\n"
     ]
    }
   ],
   "source": [
    "#17.Get sum of squares of all the even numbers and odd number  between 334 and 667 in seperate list\n",
    "odd_sum = 0\n",
    "even_sum = 0\n",
    "for i in range(334,668):\n",
    "    if(i%2 ==0):\n",
    "        even_square=i**2\n",
    "        print(\"Square of even number\",even_square)\n",
    "        even_sum+=square\n",
    "for i in range(334,668):    \n",
    "    if(i%2 !=0):\n",
    "        odd_square=i**2\n",
    "        print(\"Square of odd number\",odd_square)\n",
    "        odd_sum+=odd_square\n",
    "print([even_sum])\n",
    "print([odd_sum])\n",
    "\n",
    "        \n",
    "        "
   ]
  },
  {
   "cell_type": "code",
   "execution_count": 42,
   "metadata": {},
   "outputs": [
    {
     "name": "stdout",
     "output_type": "stream",
     "text": [
      "110\n",
      "111\n",
      "112\n",
      "113\n",
      "114\n",
      "115\n",
      "116\n",
      "117\n",
      "118\n",
      "119\n",
      "120\n",
      "121\n",
      "122\n",
      "123\n",
      "Id 124 is found\n",
      "125\n",
      "126\n",
      "127\n",
      "128\n",
      "129\n",
      "130\n"
     ]
    }
   ],
   "source": [
    "#18. for a given range of values 110,130. Print a message id 124 is found and print all the other values \n",
    "\n",
    "for i in range(110,131):\n",
    "    if (i ==124):\n",
    "        print(\"Id 124 is found\")\n",
    "    else:\n",
    "        print(i)"
   ]
  },
  {
   "cell_type": "code",
   "execution_count": 53,
   "metadata": {},
   "outputs": [
    {
     "name": "stdout",
     "output_type": "stream",
     "text": [
      "1\n",
      "2\n",
      "3\n",
      "4\n",
      "5\n"
     ]
    }
   ],
   "source": [
    "# 19.for the given range of value 1 to 10,  print all the values till 5 and exit the loop if value 6 is found\n",
    "\n",
    "for i in range (1,10):\n",
    "    if(i == 6):\n",
    "        break\n",
    "    else:\n",
    "        print(i)\n",
    "        "
   ]
  },
  {
   "cell_type": "code",
   "execution_count": 54,
   "metadata": {},
   "outputs": [
    {
     "name": "stdout",
     "output_type": "stream",
     "text": [
      "Sum of first 50 numbers: 1275\n"
     ]
    }
   ],
   "source": [
    "#20. find the sum of first 50 natural numbers\n",
    "\n",
    "sum=0\n",
    "for i in range(1,51):\n",
    "    sum+=i\n",
    "print(\"Sum of first 50 numbers:\", sum)"
   ]
  },
  {
   "cell_type": "code",
   "execution_count": null,
   "metadata": {
    "collapsed": true
   },
   "outputs": [],
   "source": [
    "#21. Display the text, n number of time\n",
    "\n"
   ]
  },
  {
   "cell_type": "code",
   "execution_count": 63,
   "metadata": {},
   "outputs": [
    {
     "name": "stdout",
     "output_type": "stream",
     "text": [
      "1\n",
      "2\n",
      "3\n",
      "5\n",
      "8\n",
      "13\n",
      "21\n",
      "34\n",
      "55\n",
      "89\n"
     ]
    }
   ],
   "source": [
    "#22. Program to Print Fibonacci Series\n",
    "  \n",
    "#0,1,1,2,3,5,8,13,21,34,55,89\n",
    "a=0\n",
    "b=1\n",
    "fibo=0\n",
    "for i in range (0,10):\n",
    "    fibo=a+b\n",
    "    temp = fibo\n",
    "    a =b\n",
    "    b=temp\n",
    "    print(fibo)\n",
    "    \n",
    "    \n",
    "\n"
   ]
  },
  {
   "cell_type": "code",
   "execution_count": 75,
   "metadata": {},
   "outputs": [
    {
     "name": "stdout",
     "output_type": "stream",
     "text": [
      "Factorial is :  120\n"
     ]
    }
   ],
   "source": [
    "#23. Factorial using while loop\n",
    "fact =1\n",
    "i=1\n",
    "while i<6:\n",
    "    fact = fact*i\n",
    "    i+=1\n",
    "print(\"Factorial is : \",fact)"
   ]
  },
  {
   "cell_type": "code",
   "execution_count": 78,
   "metadata": {},
   "outputs": [
    {
     "name": "stdout",
     "output_type": "stream",
     "text": [
      "Enter the number :-1\n",
      "Number is negative : -1\n"
     ]
    }
   ],
   "source": [
    "#24. check if a given number is positive, negative or zero\n",
    "\n",
    "a=int(input(\"Enter the number :\"))\n",
    "\n",
    "if(a<0):\n",
    "    print(\"Number is negative :\",a)\n",
    "elif(a>0):\n",
    "    print(\"Number is positive :\",a)\n",
    "else:\n",
    "    print(\"Number is zero :\",a)"
   ]
  },
  {
   "cell_type": "code",
   "execution_count": 80,
   "metadata": {},
   "outputs": [
    {
     "name": "stdout",
     "output_type": "stream",
     "text": [
      "1\n",
      "2\n",
      "3\n",
      "4\n",
      "Multiple of 5: 5\n",
      "6\n",
      "7\n",
      "8\n",
      "9\n",
      "Multiple of 5: 10\n",
      "11\n",
      "12\n",
      "13\n",
      "14\n",
      "Multiple of 5: 15\n",
      "16\n",
      "17\n",
      "18\n",
      "19\n",
      "Multiple of 5: 20\n",
      "21\n",
      "22\n",
      "23\n",
      "24\n",
      "Multiple of 5: 25\n",
      "26\n",
      "27\n",
      "28\n",
      "29\n",
      "Multiple of 5: 30\n",
      "31\n",
      "32\n",
      "33\n",
      "34\n",
      "Multiple of 5: 35\n",
      "36\n",
      "37\n",
      "38\n",
      "39\n",
      "Multiple of 5: 40\n",
      "41\n",
      "42\n",
      "43\n",
      "44\n",
      "Multiple of 5: 45\n",
      "46\n",
      "47\n",
      "48\n",
      "49\n"
     ]
    }
   ],
   "source": [
    "#25. Print the range of number and also print seperate message if there is a multiple of 5\n",
    "\n",
    "for i in range (1,50):\n",
    "    if (i % 5 == 0):\n",
    "        print(\"Multiple of 5:\",i)\n",
    "    else:\n",
    "        print(i)"
   ]
  },
  {
   "cell_type": "code",
   "execution_count": 92,
   "metadata": {},
   "outputs": [
    {
     "name": "stdout",
     "output_type": "stream",
     "text": [
      "A \n",
      "\n",
      "A B \n",
      "\n",
      "A B C \n",
      "\n",
      "A B C D \n",
      "\n",
      "A B C D E \n",
      "\n",
      "A B C D E F \n",
      "\n"
     ]
    }
   ],
   "source": [
    "#26. Print all the alphabets in a cummulative way or in a triangular format\n",
    "\n",
    "for i in range(1, 7):\n",
    "    for j in range(65, 65+i):\n",
    "        a = chr(j)\n",
    "        print(a, end=\" \")\n",
    "    print(\"\\n\")"
   ]
  },
  {
   "cell_type": "code",
   "execution_count": 95,
   "metadata": {},
   "outputs": [
    {
     "name": "stdout",
     "output_type": "stream",
     "text": [
      "1 \n",
      "\n",
      "1 2 \n",
      "\n",
      "1 2 3 \n",
      "\n",
      "1 2 3 4 \n",
      "\n",
      "1 2 3 4 5 \n",
      "\n",
      "1 2 3 4 5 6 \n",
      "\n",
      "1 2 3 4 5 6 7 \n",
      "\n",
      "1 2 3 4 5 6 7 8 \n",
      "\n",
      "1 2 3 4 5 6 7 8 9 \n",
      "\n"
     ]
    }
   ],
   "source": [
    "#27. Print a number pattern using a for loop and range function. \n",
    "\n",
    "for i in range(1,10):\n",
    "    for j in range (1,i+1):\n",
    "        print(j,end = \" \")\n",
    "    print(\"\\n\")"
   ]
  },
  {
   "cell_type": "code",
   "execution_count": 113,
   "metadata": {},
   "outputs": [
    {
     "name": "stdout",
     "output_type": "stream",
     "text": [
      "\t\n",
      "1 \t\n",
      "1 2 \t\n",
      "1 2 3 \t\n",
      "1 2 3 4 "
     ]
    }
   ],
   "source": [
    "#28. Print a Triangular half pyramid number pattern with loop and range function. \n",
    "\n",
    "for i in range(1,5):\n",
    "    print(\"\\t\")\n",
    "    for j in range (1,i+1):\n",
    "        print(j,end = \" \")"
   ]
  },
  {
   "cell_type": "code",
   "execution_count": 133,
   "metadata": {},
   "outputs": [
    {
     "name": "stdout",
     "output_type": "stream",
     "text": [
      "\n",
      "1  \n",
      "1  2  \n",
      "1  2  3  \n",
      "1  2  3  4  \n",
      "1  2  3  4  5  \n",
      "\n",
      "\n",
      "\n",
      "6 5 4 3 2 1 \n",
      "5 4 3 2 1 \n",
      "4 3 2 1 \n",
      "3 2 1 \n",
      "2 1 \n",
      "1 \n"
     ]
    }
   ],
   "source": [
    "#29. Print a number pattern and reverse the order using a for loop and range function. \n",
    "\n",
    "for i in range(1,7):\n",
    "    for j in range (1,i):\n",
    "        \n",
    "        print(j,end =\"  \")\n",
    "    print()\n",
    "    \n",
    "print(\"\\n\\n\")\n",
    "    \n",
    "for i in range (6,0,-1):\n",
    "    for j in range(i,0,-1):\n",
    "        print(j, end =\" \")\n",
    "    print()"
   ]
  },
  {
   "cell_type": "code",
   "execution_count": 135,
   "metadata": {},
   "outputs": [
    {
     "name": "stdout",
     "output_type": "stream",
     "text": [
      "\n",
      "*  \n",
      "*  *  \n",
      "*  *  *  \n",
      "*  *  *  *  \n",
      "*  *  *  *  *  \n"
     ]
    }
   ],
   "source": [
    "#30. Program to print half pyramid pattern using an asterisk (star)\n",
    "\n",
    "for i in range(1,7):\n",
    "    for j in range (1,i):\n",
    "        \n",
    "        print(\"*\",end =\"  \")\n",
    "    print()"
   ]
  },
  {
   "cell_type": "code",
   "execution_count": 136,
   "metadata": {},
   "outputs": [
    {
     "name": "stdout",
     "output_type": "stream",
     "text": [
      "* * * * * * \n",
      "* * * * * \n",
      "* * * * \n",
      "* * * \n",
      "* * \n",
      "* \n"
     ]
    }
   ],
   "source": [
    "#31. Program to print inverted half pyramid using an asterisk (star)\n",
    "\n",
    "\n",
    "for i in range (6,0,-1):\n",
    "    for j in range(i,0,-1):\n",
    "        print(\"*\", end =\" \")\n",
    "    print()"
   ]
  },
  {
   "cell_type": "code",
   "execution_count": 137,
   "metadata": {},
   "outputs": [
    {
     "name": "stdout",
     "output_type": "stream",
     "text": [
      "A\n",
      "AB\n",
      "ABC\n",
      "ABCD\n",
      "ABCDE\n"
     ]
    }
   ],
   "source": [
    "#32.Print Alphabets in triangle pattern\n",
    "\n",
    "for i in range (65,70):\n",
    "    for j in range(65,i+1):\n",
    "        print(chr(j),end=\"\")\n",
    "    print()\n",
    "    "
   ]
  },
  {
   "cell_type": "code",
   "execution_count": 161,
   "metadata": {},
   "outputs": [
    {
     "name": "stdout",
     "output_type": "stream",
     "text": [
      "{'Its': 1, 'too': 1, 'good': 3, 'to': 1, 'be': 1, 'good,': 1, 'being': 1, 'is': 1, 'always': 1}\n"
     ]
    }
   ],
   "source": [
    "#33. Findn how many time word has been repeated in the text, text = 'Its too good to be good, being good is always good'\n",
    "\n",
    "def word_count(str):\n",
    "    counts = dict()\n",
    "    words = str.split()\n",
    "    for word in words:\n",
    "        if word in counts:\n",
    "            counts[word] += 1\n",
    "        else:\n",
    "            counts[word] = 1\n",
    "\n",
    "    return counts\n",
    "\n",
    "print( word_count('Its too good to be good, being good is always good'))\n",
    "    "
   ]
  },
  {
   "cell_type": "code",
   "execution_count": 166,
   "metadata": {},
   "outputs": [
    {
     "name": "stdout",
     "output_type": "stream",
     "text": [
      "terry\n"
     ]
    }
   ],
   "source": [
    "#34. Strip only the name from email id terry@gmail.com\n",
    "text =\"terry@gmail.com\"\n",
    "print(text.split('@')[0])"
   ]
  },
  {
   "cell_type": "code",
   "execution_count": 189,
   "metadata": {},
   "outputs": [
    {
     "name": "stdout",
     "output_type": "stream",
     "text": [
      "First name : terry\n",
      "Last name : jason\n",
      "Domain : gmail\n",
      "Extension : com\n"
     ]
    }
   ],
   "source": [
    "#35. Strip all the fiels like first name, last name, domain and extension seperately  from email id terry.jason@gmail.com\n",
    "\n",
    "text=\"terry.jason@gmail.com\"\n",
    "print(\"First name :\",text.split('.')[0])\n",
    "ln=text.split('@')[0]\n",
    "print(\"Last name :\",ln.split('.')[1])\n",
    "dm=text.split('@')[1]\n",
    "print(\"Domain :\",dm.split('.')[0])\n",
    "ext=text.split('@')[1]\n",
    "print(\"Extension :\",ext.split('.')[1])\n"
   ]
  },
  {
   "cell_type": "code",
   "execution_count": 190,
   "metadata": {},
   "outputs": [
    {
     "name": "stdout",
     "output_type": "stream",
     "text": [
      "terry\n"
     ]
    }
   ],
   "source": [
    "# 36.Extract only the email ids from the text\n",
    "text =\"terry@gmail.com\"\n",
    "print(text.split('@')[0])\n"
   ]
  },
  {
   "cell_type": "code",
   "execution_count": 191,
   "metadata": {},
   "outputs": [
    {
     "name": "stdout",
     "output_type": "stream",
     "text": [
      "The original string : There are 2 apples for 4 persons\n",
      "The numbers list is : [2, 4]\n"
     ]
    }
   ],
   "source": [
    "#37. Extract all the numbers from the given text \n",
    "\n",
    "test_string = \"There are 2 apples for 4 persons\"\n",
    "\n",
    "print(\"The original string : \" + test_string) \n",
    "  \n",
    "# using List comprehension + isdigit() +split()  \n",
    "res = [int(i) for i in test_string.split() if i.isdigit()] \n",
    "  \n",
    "# print result \n",
    "print(\"The numbers list is : \" + str(res)) "
   ]
  },
  {
   "cell_type": "code",
   "execution_count": 194,
   "metadata": {},
   "outputs": [
    {
     "name": "stdout",
     "output_type": "stream",
     "text": [
      "[1, 2, 3, 4, 5, 6]\n"
     ]
    }
   ],
   "source": [
    "#38. create 2 separate lists , combine all the elements in the list. Remove the duplicate and get the count of elements\n",
    "\n",
    "count=0\n",
    "lst1=[1,2,3]\n",
    "lst2=[2,3,4,5,6]\n",
    "lst3=set(lst1+lst2)\n",
    "print(list(lst3))\n",
    "print(\"Count of Elements is list are :\", len(lst))\n",
    "    "
   ]
  },
  {
   "cell_type": "code",
   "execution_count": null,
   "metadata": {
    "collapsed": true
   },
   "outputs": [],
   "source": []
  },
  {
   "cell_type": "code",
   "execution_count": null,
   "metadata": {
    "collapsed": true
   },
   "outputs": [],
   "source": []
  },
  {
   "cell_type": "code",
   "execution_count": null,
   "metadata": {
    "collapsed": true
   },
   "outputs": [],
   "source": []
  },
  {
   "cell_type": "code",
   "execution_count": null,
   "metadata": {
    "collapsed": true
   },
   "outputs": [],
   "source": []
  },
  {
   "cell_type": "code",
   "execution_count": null,
   "metadata": {
    "collapsed": true
   },
   "outputs": [],
   "source": []
  },
  {
   "cell_type": "code",
   "execution_count": null,
   "metadata": {
    "collapsed": true
   },
   "outputs": [],
   "source": []
  },
  {
   "cell_type": "code",
   "execution_count": null,
   "metadata": {
    "collapsed": true
   },
   "outputs": [],
   "source": []
  },
  {
   "cell_type": "code",
   "execution_count": null,
   "metadata": {
    "collapsed": true
   },
   "outputs": [],
   "source": []
  },
  {
   "cell_type": "code",
   "execution_count": null,
   "metadata": {
    "collapsed": true
   },
   "outputs": [],
   "source": []
  },
  {
   "cell_type": "code",
   "execution_count": null,
   "metadata": {
    "collapsed": true
   },
   "outputs": [],
   "source": []
  },
  {
   "cell_type": "code",
   "execution_count": null,
   "metadata": {
    "collapsed": true
   },
   "outputs": [],
   "source": []
  }
 ],
 "metadata": {
  "kernelspec": {
   "display_name": "Python 3",
   "language": "python",
   "name": "python3"
  },
  "language_info": {
   "codemirror_mode": {
    "name": "ipython",
    "version": 3
   },
   "file_extension": ".py",
   "mimetype": "text/x-python",
   "name": "python",
   "nbconvert_exporter": "python",
   "pygments_lexer": "ipython3",
   "version": "3.6.3"
  }
 },
 "nbformat": 4,
 "nbformat_minor": 2
}
