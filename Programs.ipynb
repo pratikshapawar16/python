{
 "cells": [
  {
   "cell_type": "code",
   "execution_count": 3,
   "metadata": {},
   "outputs": [
    {
     "name": "stdout",
     "output_type": "stream",
     "text": [
      "0\n",
      "1\n",
      "2\n",
      "3\n",
      "4\n",
      "5\n"
     ]
    }
   ],
   "source": [
    "# 1. Print the numbers from from start till specified number eg. 0 till 5\n",
    "\n",
    "a=5\n",
    "for i in range(0,a+1):\n",
    "    print(i)\n"
   ]
  },
  {
   "cell_type": "code",
   "execution_count": 4,
   "metadata": {},
   "outputs": [
    {
     "name": "stdout",
     "output_type": "stream",
     "text": [
      "3\n",
      "4\n",
      "5\n",
      "6\n"
     ]
    }
   ],
   "source": [
    "#2. Print the number  with specific start and end 3,4,5,6\n",
    "\n",
    "a=3\n",
    "b=6\n",
    "\n",
    "for i in range(a,b+1):\n",
    "    print(i)"
   ]
  },
  {
   "cell_type": "code",
   "execution_count": 5,
   "metadata": {},
   "outputs": [
    {
     "name": "stdout",
     "output_type": "stream",
     "text": [
      "0\n",
      "2\n",
      "4\n",
      "6\n",
      "8\n"
     ]
    }
   ],
   "source": [
    "#3. Print the number with start, end and interval \n",
    "\n",
    "for i in range(0,10,2):\n",
    "    print(i)"
   ]
  },
  {
   "cell_type": "code",
   "execution_count": 11,
   "metadata": {},
   "outputs": [
    {
     "name": "stdout",
     "output_type": "stream",
     "text": [
      "t\n",
      "e\n",
      "q\n",
      "s\n",
      "t\n",
      "o\n",
      "r\n",
      "i\n",
      "e\n",
      "s\n"
     ]
    }
   ],
   "source": [
    "#4. print all the letters in the element l = \"teqstories\"\n",
    "\n",
    "for i in \"teqstories\":\n",
    "    print(i)"
   ]
  },
  {
   "cell_type": "code",
   "execution_count": 12,
   "metadata": {},
   "outputs": [
    {
     "name": "stdout",
     "output_type": "stream",
     "text": [
      "teq\n",
      "stories\n",
      "teqstories\n"
     ]
    }
   ],
   "source": [
    "#5. print all the elements in the tuple one by one  l = (teq,stories,teqstories)\n",
    "\n",
    "tup=('teq','stories','teqstories')\n",
    "for x in tup:\n",
    "    print(x)"
   ]
  },
  {
   "cell_type": "code",
   "execution_count": 13,
   "metadata": {},
   "outputs": [
    {
     "name": "stdout",
     "output_type": "stream",
     "text": [
      "teq\n",
      "stories\n",
      "teqstories\n"
     ]
    }
   ],
   "source": [
    "#6. print all the elements in the list one by one  l = [teq,stories,teqstories]\n",
    "\n",
    "l=['teq','stories','teqstories']\n",
    "for x in l:\n",
    "    print(x)\n"
   ]
  },
  {
   "cell_type": "code",
   "execution_count": 21,
   "metadata": {},
   "outputs": [
    {
     "name": "stdout",
     "output_type": "stream",
     "text": [
      "teq\n",
      "stories\n",
      "teqstories\n",
      "26\n",
      "23\n",
      "28\n"
     ]
    }
   ],
   "source": [
    "#7. print all the elements (values and keys ) in the dict one by one  l =  {\"teq\":26,\"stories\":23,\"teqstories\":28}\n",
    "\n",
    "dic={\"teq\":26,\"stories\":23,\"teqstories\":28}\n",
    "for x in dic.keys():\n",
    "    print(x)\n",
    "    \n",
    "for x in dic.values():\n",
    "    print(x)"
   ]
  },
  {
   "cell_type": "code",
   "execution_count": 30,
   "metadata": {},
   "outputs": [
    {
     "name": "stdout",
     "output_type": "stream",
     "text": [
      "teq\n",
      "stories\n",
      "teqstories\n"
     ]
    }
   ],
   "source": [
    "#8. iterate list based on index, l = [\"teq\", \"stories\", \"teqstories\"] \n",
    "l=[\"teq\", \"stories\", \"teqstories\"]\n",
    "for i in range(len(l)):\n",
    "    print(l[i])\n"
   ]
  },
  {
   "cell_type": "code",
   "execution_count": 36,
   "metadata": {},
   "outputs": [
    {
     "name": "stdout",
     "output_type": "stream",
     "text": [
      "Cummulative Sum : 6\n",
      "Cummulative Sum : 11\n",
      "Cummulative Sum : 14\n",
      "Cummulative Sum : 22\n",
      "Cummulative Sum : 26\n",
      "Cummulative Sum : 28\n",
      "Cummulative Sum : 33\n",
      "Cummulative Sum : 37\n",
      "Cummulative Sum : 48\n",
      "Total Sum : 48\n"
     ]
    }
   ],
   "source": [
    "#9. Print the total sum  and cummulative sum of all the numbers in the list n = [6, 5, 3, 8, 4, 2, 5, 4, 11]\n",
    "\n",
    "n = [6, 5, 3, 8, 4, 2, 5, 4, 11]\n",
    "sum=0\n",
    "for x in n:\n",
    "    sum+=x\n",
    "    print(\"Cummulative Sum :\",sum)\n",
    "print(\"Total Sum :\",sum)\n"
   ]
  },
  {
   "cell_type": "code",
   "execution_count": 42,
   "metadata": {},
   "outputs": [
    {
     "name": "stdout",
     "output_type": "stream",
     "text": [
      "Enter the value:4\n",
      "4 is not a prime number\n"
     ]
    }
   ],
   "source": [
    "#10.check if the given value is prime number or not\n",
    "\n",
    "a=int(input(\"Enter the value:\"))\n",
    "for i in range(2,a):\n",
    "       if (a % i) == 0:\n",
    "           print(a,\"is not a prime number\")\n",
    "           break\n",
    "       else:\n",
    "           print(a,\"is a prime number\")\n",
    "       "
   ]
  },
  {
   "cell_type": "code",
   "execution_count": null,
   "metadata": {
    "collapsed": true
   },
   "outputs": [],
   "source": []
  },
  {
   "cell_type": "code",
   "execution_count": null,
   "metadata": {
    "collapsed": true
   },
   "outputs": [],
   "source": []
  },
  {
   "cell_type": "code",
   "execution_count": null,
   "metadata": {
    "collapsed": true
   },
   "outputs": [],
   "source": []
  },
  {
   "cell_type": "code",
   "execution_count": null,
   "metadata": {
    "collapsed": true
   },
   "outputs": [],
   "source": []
  },
  {
   "cell_type": "code",
   "execution_count": null,
   "metadata": {
    "collapsed": true
   },
   "outputs": [],
   "source": []
  },
  {
   "cell_type": "code",
   "execution_count": null,
   "metadata": {
    "collapsed": true
   },
   "outputs": [],
   "source": []
  },
  {
   "cell_type": "code",
   "execution_count": null,
   "metadata": {
    "collapsed": true
   },
   "outputs": [],
   "source": []
  },
  {
   "cell_type": "code",
   "execution_count": null,
   "metadata": {
    "collapsed": true
   },
   "outputs": [],
   "source": []
  }
 ],
 "metadata": {
  "kernelspec": {
   "display_name": "Python 3",
   "language": "python",
   "name": "python3"
  },
  "language_info": {
   "codemirror_mode": {
    "name": "ipython",
    "version": 3
   },
   "file_extension": ".py",
   "mimetype": "text/x-python",
   "name": "python",
   "nbconvert_exporter": "python",
   "pygments_lexer": "ipython3",
   "version": "3.6.3"
  }
 },
 "nbformat": 4,
 "nbformat_minor": 2
}
