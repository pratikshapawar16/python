{
 "cells": [
  {
   "cell_type": "code",
   "execution_count": 9,
   "metadata": {},
   "outputs": [
    {
     "name": "stdout",
     "output_type": "stream",
     "text": [
      "Twinkle, twinkle, little star,\n",
      "\tHow I wonder what you are!\n",
      "\t\tUp above the world so high,\n",
      "\t\tLike a diamond in the sky.\n",
      "Twinkle, twinkle, little star,\n",
      "\tHow I wonder what you are!\n"
     ]
    }
   ],
   "source": [
    "#1.1. Write a Python program to print the following string in a specific format (see the output).\n",
    "\n",
    "print(\"Twinkle, twinkle, little star,\"+\"\\n\\t\"+\"How I wonder what you are!\"+\"\\n\\t\\t\"+\"Up above the world so high,\"\n",
    "     +\"\\n\\t\\t\"+\"Like a diamond in the sky.\"+\"\\n\"+\"Twinkle, twinkle, little star,\"+\"\\n\\t\"+\"How I wonder what you are!\") \n"
   ]
  },
  {
   "cell_type": "code",
   "execution_count": 12,
   "metadata": {},
   "outputs": [
    {
     "name": "stdout",
     "output_type": "stream",
     "text": [
      "Python version\n",
      "3.6.3 |Anaconda, Inc.| (default, Oct 13 2017, 12:02:49) \n",
      "[GCC 7.2.0]\n",
      "Version info.\n",
      "sys.version_info(major=3, minor=6, micro=3, releaselevel='final', serial=0)\n"
     ]
    }
   ],
   "source": [
    "#2.Write a Python program to get the Python version you are using.\n",
    "import sys\n",
    "print(\"Python version\")\n",
    "print (sys.version)\n",
    "print(\"Version info.\")\n",
    "print (sys.version_info)"
   ]
  },
  {
   "cell_type": "code",
   "execution_count": 17,
   "metadata": {},
   "outputs": [
    {
     "name": "stdout",
     "output_type": "stream",
     "text": [
      "Current date and time : \n",
      "2020-06-01 23:30:49\n"
     ]
    }
   ],
   "source": [
    "#3. Write a Python program to display the current date and time.\n",
    "import datetime\n",
    "now = datetime.datetime.now()\n",
    "print (\"Current date and time : \")\n",
    "print (now.strftime(\"%Y-%m-%d %H:%M:%S\"))"
   ]
  },
  {
   "cell_type": "code",
   "execution_count": 26,
   "metadata": {},
   "outputs": [
    {
     "name": "stdout",
     "output_type": "stream",
     "text": [
      "Enter the radius of circle :1.1\n",
      "Area : 3.7994000000000008\n"
     ]
    }
   ],
   "source": [
    "#4. Write a Python program which accepts the radius of a circle from the user and compute the area\n",
    "'''Sample Output :\n",
    "r = 1.1\n",
    "Area = 3.8013271108436504'''\n",
    "\n",
    "r = float(input(\"Enter the radius of circle :\"))\n",
    "area = float(3.14*r**2)\n",
    "print(\"Area :\", area)"
   ]
  },
  {
   "cell_type": "code",
   "execution_count": 27,
   "metadata": {},
   "outputs": [
    {
     "name": "stdout",
     "output_type": "stream",
     "text": [
      "Enter first name :Pratiksha\n",
      "Enter last name :Pawar\n",
      "Pawar Pratiksha\n"
     ]
    }
   ],
   "source": [
    "#5. Write a Python program which accepts the user's first and last name and print them in reverse order with a space between them.\n",
    "\n",
    "fname = input(\"Enter first name :\")\n",
    "lname = input(\"Enter last name :\")\n",
    "\n",
    "print(lname +\" \"+fname)"
   ]
  },
  {
   "cell_type": "code",
   "execution_count": 28,
   "metadata": {},
   "outputs": [
    {
     "name": "stdout",
     "output_type": "stream",
     "text": [
      "Input some comma seprated numbers : 4,5,6,7,8\n",
      "List :  ['4', '5', '6', '7', '8']\n",
      "Tuple :  ('4', '5', '6', '7', '8')\n"
     ]
    }
   ],
   "source": [
    "#6. Write a Python program which accepts a sequence of comma-separated numbers from user and generate a list and a tuple with those numbers.\n",
    "\n",
    "values = input(\"Input some comma seprated numbers : \")\n",
    "list = values.split(\",\")\n",
    "tuple = tuple(list)\n",
    "print('List : ',list)\n",
    "print('Tuple : ',tuple)"
   ]
  },
  {
   "cell_type": "code",
   "execution_count": 34,
   "metadata": {},
   "outputs": [
    {
     "name": "stdout",
     "output_type": "stream",
     "text": [
      "Enter the filename with extension :abc.java\n",
      "java\n"
     ]
    }
   ],
   "source": [
    "'''7. Write a Python program to accept a filename from the user and print the extension of that. Go to the editor\n",
    "Sample filename : abc.java\n",
    "Output : java'''\n",
    "\n",
    "\n",
    "a = input(\"Enter the filename with extension :\")\n",
    "b =(a.split(\".\"))\n",
    "print(b[1])"
   ]
  },
  {
   "cell_type": "code",
   "execution_count": 37,
   "metadata": {},
   "outputs": [
    {
     "name": "stdout",
     "output_type": "stream",
     "text": [
      "Red\n",
      "Black\n"
     ]
    }
   ],
   "source": [
    "#8. Write a Python program to display the first and last colors from the following list. Go to the editor\n",
    "\n",
    "color_list = [\"Red\",\"Green\",\"White\" ,\"Black\"]\n",
    "print(color_list[0])\n",
    "print(color_list[-1])\n",
    "\n"
   ]
  },
  {
   "cell_type": "code",
   "execution_count": 39,
   "metadata": {},
   "outputs": [
    {
     "name": "stdout",
     "output_type": "stream",
     "text": [
      "The examination will start from : 11 / 12 / 2014\n"
     ]
    }
   ],
   "source": [
    "#9. Write a Python program to display the examination schedule. (extract the date from exam_st_date)\n",
    "exam_st_date = (11,12,2014)\n",
    "print( \"The examination will start from : %i / %i / %i\"%exam_st_date)\n"
   ]
  },
  {
   "cell_type": "code",
   "execution_count": 42,
   "metadata": {},
   "outputs": [
    {
     "name": "stdout",
     "output_type": "stream",
     "text": [
      "Input an integer : 5\n",
      "5\n",
      "55\n",
      "555\n",
      "615\n"
     ]
    }
   ],
   "source": [
    "'''10. Write a Python program that accepts an integer (n) and computes the value of n+nn+nnn. Go to the editor\n",
    "Sample value of n is 5\n",
    "Expected Result : 615'''\n",
    "\n",
    "a = int(input(\"Input an integer : \"))\n",
    "n1 = int( \"%s\" % a )\n",
    "print(n1)\n",
    "n2 = int( \"%s%s\" % (a,a) )\n",
    "print(n2)\n",
    "n3 = int( \"%s%s%s\" % (a,a,a) )\n",
    "print(n3)\n",
    "print (n1+n2+n3)\n"
   ]
  },
  {
   "cell_type": "code",
   "execution_count": null,
   "metadata": {
    "collapsed": true
   },
   "outputs": [],
   "source": []
  }
 ],
 "metadata": {
  "kernelspec": {
   "display_name": "Python 3",
   "language": "python",
   "name": "python3"
  },
  "language_info": {
   "codemirror_mode": {
    "name": "ipython",
    "version": 3
   },
   "file_extension": ".py",
   "mimetype": "text/x-python",
   "name": "python",
   "nbconvert_exporter": "python",
   "pygments_lexer": "ipython3",
   "version": "3.6.3"
  }
 },
 "nbformat": 4,
 "nbformat_minor": 2
}
